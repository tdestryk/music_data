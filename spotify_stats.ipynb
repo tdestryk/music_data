{
 "cells": [
  {
   "cell_type": "code",
   "execution_count": 2,
   "id": "671d444a",
   "metadata": {},
   "outputs": [
    {
     "name": "stdout",
     "output_type": "stream",
     "text": [
      "✅ Artist and top track stats saved.\n"
     ]
    }
   ],
   "source": [
    "# spotify_stats_extended.py\n",
    "\n",
    "import os\n",
    "from dotenv import load_dotenv\n",
    "import spotipy\n",
    "from spotipy.oauth2 import SpotifyClientCredentials\n",
    "import pandas as pd\n",
    "from datetime import datetime\n",
    "\n",
    "# Load environment variables\n",
    "load_dotenv()\n",
    "client_id = os.getenv(\"SPOTIPY_CLIENT_ID\")\n",
    "client_secret = os.getenv(\"SPOTIPY_CLIENT_SECRET\")\n",
    "\n",
    "# Authenticate\n",
    "auth_manager = SpotifyClientCredentials(client_id=client_id, client_secret=client_secret)\n",
    "sp = spotipy.Spotify(auth_manager=auth_manager)\n",
    "\n",
    "# Define artist names (you can change these)\n",
    "artist_names = [\"Bad Bunny\", \"Doja Cat\", \"Kendrick Lamar\"]\n",
    "\n",
    "artist_data = []\n",
    "top_tracks_data = []\n",
    "\n",
    "def get_artist_id(artist_name):\n",
    "    result = sp.search(q=artist_name, type=\"artist\", limit=1)\n",
    "    return result['artists']['items'][0]['id'] if result['artists']['items'] else None\n",
    "\n",
    "for name in artist_names:\n",
    "    artist_id = get_artist_id(name)\n",
    "    if not artist_id:\n",
    "        print(f\"❌ Couldn't find ID for {name}\")\n",
    "        continue\n",
    "\n",
    "    # Artist metadata\n",
    "    artist = sp.artist(artist_id)\n",
    "    artist_data.append({\n",
    "        \"artist_name\": artist['name'],\n",
    "        \"artist_id\": artist['id'],\n",
    "        \"followers\": artist['followers']['total'],\n",
    "        \"popularity\": artist['popularity'],\n",
    "        \"genres\": \", \".join(artist['genres']),\n",
    "        \"spotify_url\": artist['external_urls']['spotify'],\n",
    "        \"timestamp\": datetime.now().strftime(\"%Y-%m-%d %H:%M:%S\")\n",
    "    })\n",
    "\n",
    "    # Top tracks\n",
    "    top_tracks = sp.artist_top_tracks(artist_id, country='US')\n",
    "    for track in top_tracks['tracks']:\n",
    "        top_tracks_data.append({\n",
    "            \"artist_name\": artist['name'],\n",
    "            \"track_name\": track['name'],\n",
    "            \"track_popularity\": track['popularity'],\n",
    "            \"track_url\": track['external_urls']['spotify'],\n",
    "            \"timestamp\": datetime.now().strftime(\"%Y-%m-%d %H:%M:%S\")\n",
    "        })\n",
    "\n",
    "# Save artist stats\n",
    "artist_df = pd.DataFrame(artist_data)\n",
    "artist_df.to_csv(\"spotify_stats.csv\", mode='a', index=False, header=not os.path.exists(\"spotify_stats.csv\"))\n",
    "\n",
    "# Save top tracks stats\n",
    "top_tracks_df = pd.DataFrame(top_tracks_data)\n",
    "top_tracks_df.to_csv(\"spotify_top_tracks.csv\", mode='a', index=False, header=not os.path.exists(\"spotify_top_tracks.csv\"))\n",
    "\n",
    "print(\"✅ Artist and top track stats saved.\")"
   ]
  }
 ],
 "metadata": {
  "kernelspec": {
   "display_name": "Python 3",
   "language": "python",
   "name": "python3"
  },
  "language_info": {
   "codemirror_mode": {
    "name": "ipython",
    "version": 3
   },
   "file_extension": ".py",
   "mimetype": "text/x-python",
   "name": "python",
   "nbconvert_exporter": "python",
   "pygments_lexer": "ipython3",
   "version": "3.12.1"
  }
 },
 "nbformat": 4,
 "nbformat_minor": 5
}
